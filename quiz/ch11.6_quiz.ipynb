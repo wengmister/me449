{
 "cells": [
  {
   "cell_type": "code",
   "execution_count": 2,
   "metadata": {},
   "outputs": [
    {
     "name": "stdout",
     "output_type": "stream",
     "text": [
      "q1:  20.0\n"
     ]
    }
   ],
   "source": [
    "b = 2\n",
    "M = 1\n",
    "kd = 3\n",
    "kp = 4\n",
    "\n",
    "ki_max = (b + kd) * kp / M\n",
    "print(\"q1: \", ki_max)"
   ]
  },
  {
   "cell_type": "code",
   "execution_count": null,
   "metadata": {},
   "outputs": [
    {
     "data": {
      "text/latex": [
       "$\\displaystyle s^{3} + 12 s^{2} + 48 s + 64$"
      ],
      "text/plain": [
       "s**3 + 12*s**2 + 48*s + 64"
      ]
     },
     "metadata": {},
     "output_type": "display_data"
    }
   ],
   "source": [
    "import sympy as sym\n",
    "\n",
    "s = sym.Symbol('s')\n",
    "expr = (s+4)**3\n",
    "display(expr.expand())"
   ]
  }
 ],
 "metadata": {
  "kernelspec": {
   "display_name": "Python 3",
   "language": "python",
   "name": "python3"
  },
  "language_info": {
   "codemirror_mode": {
    "name": "ipython",
    "version": 3
   },
   "file_extension": ".py",
   "mimetype": "text/x-python",
   "name": "python",
   "nbconvert_exporter": "python",
   "pygments_lexer": "ipython3",
   "version": "3.12.3"
  }
 },
 "nbformat": 4,
 "nbformat_minor": 2
}
