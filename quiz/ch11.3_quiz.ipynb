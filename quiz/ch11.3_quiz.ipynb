{
 "cells": [
  {
   "cell_type": "code",
   "execution_count": 2,
   "metadata": {},
   "outputs": [
    {
     "name": "stdout",
     "output_type": "stream",
     "text": [
      "Characteristic matrix:\n",
      "Matrix([[λ, -1, 0], [0, λ, -1], [3, 2, λ + 1]])\n",
      "\n",
      "Characteristic equation:\n",
      "Q2: λ**3 + λ**2 + 2*λ + 3 = 0\n",
      "\n",
      "Eigenvalues:\n"
     ]
    },
    {
     "data": {
      "text/latex": [
       "$\\displaystyle 0.137841101825493 + 1.52731225088663 i$"
      ],
      "text/plain": [
       "0.137841101825493 + 1.52731225088663*I"
      ]
     },
     "metadata": {},
     "output_type": "display_data"
    },
    {
     "data": {
      "text/latex": [
       "$\\displaystyle 0.137841101825493 - 1.52731225088663 i$"
      ],
      "text/plain": [
       "0.137841101825493 - 1.52731225088663*I"
      ]
     },
     "metadata": {},
     "output_type": "display_data"
    },
    {
     "data": {
      "text/latex": [
       "$\\displaystyle -1.27568220365098$"
      ],
      "text/plain": [
       "-1.27568220365098"
      ]
     },
     "metadata": {},
     "output_type": "display_data"
    }
   ],
   "source": [
    "import sympy as sym\n",
    "import modern_robotics as mr\n",
    "import numpy as np\n",
    "\n",
    "# Define symbolic variable λ (lambda)\n",
    "lam = sym.symbols('λ')\n",
    "\n",
    "# Create the coefficient matrix A\n",
    "A = sym.Matrix([\n",
    "    [0, 1, 0],\n",
    "    [0, 0, 1],\n",
    "    [-3, -2, -1]\n",
    "])\n",
    "\n",
    "# Create 3x3 identity matrix\n",
    "I = sym.Matrix.eye(3)\n",
    "\n",
    "# Calculate λI - A\n",
    "char_matrix = lam*I - A\n",
    "\n",
    "print(\"Characteristic matrix:\")\n",
    "print(char_matrix)\n",
    "\n",
    "# Calculate determinant\n",
    "char_equation = char_matrix.det()\n",
    "\n",
    "# Expand to get a cleaner form\n",
    "char_equation = sym.expand(char_equation)\n",
    "\n",
    "print(\"\\nCharacteristic equation:\")\n",
    "print(f\"Q2: {char_equation} = 0\")\n",
    "\n",
    "\n",
    "eigenvalues = sym.solve(char_equation, lam)\n",
    "print(\"\\nEigenvalues:\")\n",
    "for i in eigenvalues:\n",
    "    display(i.evalf())"
   ]
  },
  {
   "cell_type": "code",
   "execution_count": 5,
   "metadata": {},
   "outputs": [
    {
     "data": {
      "text/plain": [
       "0.7071067811865475"
      ]
     },
     "metadata": {},
     "output_type": "display_data"
    },
    {
     "name": "stdout",
     "output_type": "stream",
     "text": [
      "q6:\n"
     ]
    },
    {
     "data": {
      "text/plain": [
       "2.121320343559643"
      ]
     },
     "metadata": {},
     "output_type": "display_data"
    }
   ],
   "source": [
    "m = 1\n",
    "b = 2\n",
    "k = 2\n",
    "zeta = b/(2*np.sqrt(k*m))\n",
    "display(zeta)\n",
    "\n",
    "m = 1\n",
    "b = 3\n",
    "k = 9\n",
    "wn = np.sqrt(k/m)\n",
    "wd = wn*np.sqrt(1-zeta**2)\n",
    "print(\"q6:\")\n",
    "display(wd)"
   ]
  },
  {
   "cell_type": "code",
   "execution_count": 10,
   "metadata": {},
   "outputs": [
    {
     "name": "stdout",
     "output_type": "stream",
     "text": [
      "q8:\n"
     ]
    },
    {
     "data": {
      "text/plain": [
       "6.324555320336759"
      ]
     },
     "metadata": {},
     "output_type": "display_data"
    },
    {
     "name": "stdout",
     "output_type": "stream",
     "text": [
      "q10:\n"
     ]
    },
    {
     "data": {
      "text/plain": [
       "1.2649110640673518"
      ]
     },
     "metadata": {},
     "output_type": "display_data"
    }
   ],
   "source": [
    "ki = 10\n",
    "\n",
    "# ki = kp**2 /4\n",
    "kp = np.sqrt(ki*4)\n",
    "print(\"q8:\")\n",
    "display(kp)\n",
    "\n",
    "m = 1\n",
    "b = kp\n",
    "k = ki\n",
    "\n",
    "zeta = b/(2*np.sqrt(k*m))\n",
    "wn = np.sqrt(k/m)\n",
    "\n",
    "settling_time = 4/(zeta*wn)\n",
    "print(\"q10:\")\n",
    "display(settling_time)"
   ]
  },
  {
   "cell_type": "code",
   "execution_count": 11,
   "metadata": {},
   "outputs": [
    {
     "name": "stdout",
     "output_type": "stream",
     "text": [
      "q11:\n"
     ]
    },
    {
     "data": {
      "text/plain": [
       "0.4"
      ]
     },
     "metadata": {},
     "output_type": "display_data"
    }
   ],
   "source": [
    "kp = 20\n",
    "ki = kp**2 / 4\n",
    "\n",
    "m = 1\n",
    "b = kp\n",
    "k = ki\n",
    "\n",
    "zeta = b/(2*np.sqrt(k*m))\n",
    "wn = np.sqrt(k/m)\n",
    "\n",
    "settling_time = 4/(zeta*wn)\n",
    "print(\"q11:\")\n",
    "display(settling_time)"
   ]
  }
 ],
 "metadata": {
  "kernelspec": {
   "display_name": "Python 3",
   "language": "python",
   "name": "python3"
  },
  "language_info": {
   "codemirror_mode": {
    "name": "ipython",
    "version": 3
   },
   "file_extension": ".py",
   "mimetype": "text/x-python",
   "name": "python",
   "nbconvert_exporter": "python",
   "pygments_lexer": "ipython3",
   "version": "3.12.3"
  }
 },
 "nbformat": 4,
 "nbformat_minor": 2
}
