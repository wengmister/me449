{
 "cells": [
  {
   "cell_type": "code",
   "execution_count": 2,
   "metadata": {},
   "outputs": [
    {
     "name": "stdout",
     "output_type": "stream",
     "text": [
      "s(t) = \n"
     ]
    },
    {
     "data": {
      "text/latex": [
       "$\\displaystyle a_{0} + a_{1} t + a_{2} t^{2} + a_{3} t^{3} + a_{4} t^{4} + a_{5} t^{5}$"
      ],
      "text/plain": [
       "a0 + a1*t + a2*t**2 + a3*t**3 + a4*t**4 + a5*t**5"
      ]
     },
     "metadata": {},
     "output_type": "display_data"
    },
    {
     "name": "stdout",
     "output_type": "stream",
     "text": [
      "s'(t) = \n"
     ]
    },
    {
     "data": {
      "text/latex": [
       "$\\displaystyle a_{1} + 2 a_{2} t + 3 a_{3} t^{2} + 4 a_{4} t^{3} + 5 a_{5} t^{4}$"
      ],
      "text/plain": [
       "a1 + 2*a2*t + 3*a3*t**2 + 4*a4*t**3 + 5*a5*t**4"
      ]
     },
     "metadata": {},
     "output_type": "display_data"
    },
    {
     "name": "stdout",
     "output_type": "stream",
     "text": [
      "s''(t) = \n"
     ]
    },
    {
     "data": {
      "text/latex": [
       "$\\displaystyle 2 a_{2} + 6 a_{3} t + 12 a_{4} t^{2} + 20 a_{5} t^{3}$"
      ],
      "text/plain": [
       "2*a2 + 6*a3*t + 12*a4*t**2 + 20*a5*t**3"
      ]
     },
     "metadata": {},
     "output_type": "display_data"
    },
    {
     "name": "stdout",
     "output_type": "stream",
     "text": [
      "Solution:\n"
     ]
    },
    {
     "data": {
      "text/plain": [
       "{a0: 0, a1: 0, a2: 0, a3: 10/T**3, a4: -15/T**4, a5: 6/T**5}"
      ]
     },
     "metadata": {},
     "output_type": "display_data"
    }
   ],
   "source": [
    "# Q2\n",
    "import sympy as sym\n",
    "\n",
    "t = sym.Symbol('t')\n",
    "T = sym.Symbol('T')\n",
    "a0, a1, a2, a3, a4, a5 = sym.symbols('a0 a1 a2 a3 a4 a5')\n",
    "\n",
    "s = a0 + a1*t + a2*t**2 + a3*t**3 + a4*t**4 + a5*t**5\n",
    "print(\"s(t) = \")\n",
    "display(s)\n",
    "sdot = s.diff(t)\n",
    "print(\"s'(t) = \")\n",
    "display(sdot)\n",
    "sddot = sdot.diff(t)\n",
    "print(\"s''(t) = \")\n",
    "display(sddot)\n",
    "\n",
    "# Compute the coefficients of the polynomial\n",
    "s0_eq = s.subs(t, 0)\n",
    "sT_eq = s.subs(t, T)\n",
    "sdot0_eq = sdot.subs(t, 0)\n",
    "sdotT_eq = sdot.subs(t, T)\n",
    "sddot0_eq = sddot.subs(t, 0)\n",
    "sddotT_eq = sddot.subs(t, T)\n",
    "\n",
    "eq1 = sym.Eq(s0_eq, 0)\n",
    "eq2 = sym.Eq(sT_eq, 1)\n",
    "eq3 = sym.Eq(sdot0_eq, 0)\n",
    "eq4 = sym.Eq(sdotT_eq, 0)\n",
    "eq5 = sym.Eq(sddot0_eq, 0)\n",
    "eq6 = sym.Eq(sddotT_eq, 0)\n",
    "\n",
    "soln = sym.solve([eq1, eq2, eq3, eq4, eq5, eq6], (a0, a1, a2, a3, a4, a5))\n",
    "print(\"Solution:\")\n",
    "display(soln)"
   ]
  },
  {
   "cell_type": "code",
   "execution_count": 3,
   "metadata": {},
   "outputs": [
    {
     "name": "stdout",
     "output_type": "stream",
     "text": [
      "S(3) =  0.6825599999999996\n"
     ]
    }
   ],
   "source": [
    "# Q5\n",
    "import modern_robotics as mr\n",
    "print(\"S(3) = \",mr.QuinticTimeScaling(5,3))"
   ]
  },
  {
   "cell_type": "code",
   "execution_count": 4,
   "metadata": {},
   "outputs": [
    {
     "name": "stdout",
     "output_type": "stream",
     "text": [
      "Q6 output:\n",
      "[[ 0.04229152 -0.04057269  0.99828116  0.93313173]\n",
      " [ 0.99828116  0.04229152 -0.04057269  1.97198558]\n",
      " [-0.04057269  0.99828116  0.04229152  2.88912137]\n",
      " [ 0.          0.          0.          1.        ]]\n"
     ]
    }
   ],
   "source": [
    "# Q6\n",
    "import numpy as np\n",
    "Xstart = np.array([[1, 0, 0, 0],\n",
    "                   [0, 1, 0, 0],\n",
    "                   [0, 0, 1, 0],\n",
    "                   [0, 0, 0, 1]])\n",
    "Xend = np.array([[0, 0, 1, 1],\n",
    "                 [1, 0, 0, 2],\n",
    "                 [0, 1, 0, 3],\n",
    "                 [0, 0, 0, 1]])\n",
    "q6_out = mr.ScrewTrajectory(Xstart, Xend, 10, 10, 3)\n",
    "print(\"Q6 output:\") \n",
    "print(q6_out[-2])"
   ]
  },
  {
   "cell_type": "code",
   "execution_count": 6,
   "metadata": {},
   "outputs": [
    {
     "name": "stdout",
     "output_type": "stream",
     "text": [
      "Q7 output:\n",
      "[[ 0.01404133 -0.01384686  0.99980553  0.98846721]\n",
      " [ 0.99980553  0.01404133 -0.01384686  1.97693441]\n",
      " [-0.01384686  0.99980553  0.01404133  2.96540162]\n",
      " [ 0.          0.          0.          1.        ]]\n"
     ]
    }
   ],
   "source": [
    "# Q7\n",
    "q7_out = mr.CartesianTrajectory(Xstart, Xend, 10, 10, 5)\n",
    "print(\"Q7 output:\")\n",
    "print(q7_out[-2])"
   ]
  },
  {
   "cell_type": "markdown",
   "metadata": {},
   "source": [
    "https://medium.com/@14prakash/back-propagation-is-very-simple-who-made-it-complicated-97b794c97e5c\n",
    "https://medium.com/@14prakash/back‐propagation‐is‐very‐simple‐who‐made‐it‐complicated‐97b794c97e5c"
   ]
  }
 ],
 "metadata": {
  "kernelspec": {
   "display_name": "Python 3",
   "language": "python",
   "name": "python3"
  },
  "language_info": {
   "codemirror_mode": {
    "name": "ipython",
    "version": 3
   },
   "file_extension": ".py",
   "mimetype": "text/x-python",
   "name": "python",
   "nbconvert_exporter": "python",
   "pygments_lexer": "ipython3",
   "version": "3.12.3"
  }
 },
 "nbformat": 4,
 "nbformat_minor": 2
}
