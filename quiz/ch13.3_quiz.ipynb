{
 "cells": [
  {
   "cell_type": "code",
   "execution_count": 16,
   "metadata": {},
   "outputs": [
    {
     "name": "stdout",
     "output_type": "stream",
     "text": [
      "q1: u = [-11.3137085 -11.3137085 -11.3137085 -11.3137085]\n"
     ]
    }
   ],
   "source": [
    "import numpy as np\n",
    "\n",
    "l = 2\n",
    "w = 2\n",
    "\n",
    "beta2 = np.pi/4\n",
    "beta1 = -np.pi/4\n",
    "beta4 = -np.pi/4*3\n",
    "beta3 = np.pi/4*3\n",
    "\n",
    "\n",
    "h2 = np.array([1, np.tan(0)]) @ np.array([[np.cos(beta2), np.sin(beta2)], [-np.sin(beta2), np.cos(beta2)]]) @ np.array([[-w, 1, 0],[-l, 0, 1]])\n",
    "h1 = np.array([1, np.tan(0)]) @ np.array([[np.cos(beta1), np.sin(beta1)], [-np.sin(beta1), np.cos(beta1)]]) @ np.array([[-w, 1, 0],[l, 0, 1]])\n",
    "h4 = np.array([1, np.tan(0)]) @ np.array([[np.cos(beta4), np.sin(beta4)], [-np.sin(beta4), np.cos(beta4)]]) @ np.array([[w, 1, 0],[l, 0, 1]])\n",
    "h3 = np.array([1, np.tan(0)]) @ np.array([[np.cos(beta3), np.sin(beta3)], [-np.sin(beta3), np.cos(beta3)]]) @ np.array([[w, 1, 0],[-l, 0, 1]])\n",
    "\n",
    "H0 = np.vstack([h1, h2, h3, h4])\n",
    "H0 = H0/0.25\n",
    "\n",
    "Vb = np.array([1,0,0]).T\n",
    "\n",
    "u = H0 @ Vb\n",
    "\n",
    "print(f\"q1: u = {u}\")"
   ]
  },
  {
   "cell_type": "code",
   "execution_count": 17,
   "metadata": {},
   "outputs": [
    {
     "name": "stdout",
     "output_type": "stream",
     "text": [
      "q2: u = [-14.14213562   2.82842712  -8.48528137 -25.45584412]\n"
     ]
    }
   ],
   "source": [
    "Vb = np.array([1,2,3]).T\n",
    "u = H0 @ Vb\n",
    "print(f\"q2: u = {u}\")"
   ]
  },
  {
   "cell_type": "code",
   "execution_count": null,
   "metadata": {},
   "outputs": [
    {
     "name": "stdout",
     "output_type": "stream",
     "text": [
      "2.5\n"
     ]
    }
   ],
   "source": [
    "honestly no idea how the fuck q3 works."
   ]
  }
 ],
 "metadata": {
  "kernelspec": {
   "display_name": "Python 3",
   "language": "python",
   "name": "python3"
  },
  "language_info": {
   "codemirror_mode": {
    "name": "ipython",
    "version": 3
   },
   "file_extension": ".py",
   "mimetype": "text/x-python",
   "name": "python",
   "nbconvert_exporter": "python",
   "pygments_lexer": "ipython3",
   "version": "3.12.3"
  }
 },
 "nbformat": 4,
 "nbformat_minor": 2
}
