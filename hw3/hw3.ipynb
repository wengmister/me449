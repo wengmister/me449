{
 "cells": [
  {
   "cell_type": "markdown",
   "metadata": {},
   "source": [
    "# ME449 - Homework 3 - Zhengyang Kris Weng Submission"
   ]
  },
  {
   "cell_type": "code",
   "execution_count": 1,
   "metadata": {},
   "outputs": [],
   "source": [
    "import numpy as np\n",
    "import modern_robotics as mr\n",
    "from tqdm import tqdm\n",
    "import ur5_parameters\n",
    "ur5 = ur5_parameters.UR5()"
   ]
  },
  {
   "cell_type": "markdown",
   "metadata": {},
   "source": [
    "## Part0: Puppet function"
   ]
  },
  {
   "cell_type": "code",
   "execution_count": null,
   "metadata": {},
   "outputs": [],
   "source": []
  },
  {
   "cell_type": "markdown",
   "metadata": {},
   "source": [
    "## Part 1: Simulating a falling robot. \n",
    "In the first part, the robot will fall in gravity without\n",
    "damping or the external spring (joint damping and spring stiffness are set to zero). Since there is\n",
    "no damping or friction, the total energy of the robot (kinetic plus potential) should remain constant\n",
    "during motion. Gravity is g = 9.81 m/s2 in the −ˆzs-direction, i.e., gravity acts downward.\n",
    "Simulate the robot falling from rest at the home configuration for five seconds. The output data\n",
    "should be saved as a .csv file, where each of the N rows has six numbers separated by commas.\n",
    "This .csv file is suitable for animation with the CoppeliaSim UR5 csv animation scene. Adjust\n",
    "the animation scene playback speed (“Time Multiplier”) so it takes roughly five seconds of wall\n",
    "clock time to play your csv file. You can evaluate if your simulation is preserving total energy by\n",
    "visually checking if the robot appears to swing to the same height (same potential energy) each\n",
    "swing. Choose values of dt (a) where the energy appears nearly constant (without choosing dt\n",
    "unnecessarily small) and (b) where the energy does not appear constant (because your timestep\n",
    "is too coarse). Capture a video for each case and note the dt chosen for each case. Explain how\n",
    "you would calculate the total energy of the robot at each timestep if you wanted to plot the total\n",
    "energy to confirm that your simulation approximately preserves it."
   ]
  },
  {
   "cell_type": "code",
   "execution_count": 2,
   "metadata": {},
   "outputs": [],
   "source": [
    "# Puppet function:\n",
    "def puppet_q1(thetalist, dthetalist, g, Mlist, Slist, Glist, t, dt, damping, stiffness, restLength):\n",
    "    \"\"\"\n",
    "    Simulate a robot under damping and spring reaction. Q1: free falling in gravity\n",
    "\n",
    "    Args:\n",
    "        thetalist (np.array): n-vector of initial joint angles (rad)\n",
    "        dthetalist (np.array): n-vector of initial joint velocities (rad/s)\n",
    "        g (np.array): 3-vector of gravity in s frame (m/s^2)\n",
    "        Mlist (np.array): 8 frames of link configuration at home pose\n",
    "        Slist (np.array): 6-vector of screw axes at home configuration\n",
    "        Glist (np.array): Spatial inertia matrices of the links\n",
    "        t (float): total simulation time (s)\n",
    "        dt (float): simulation time step (s)\n",
    "        damping (float): viscous damping coefficient (Nmn/rad)\n",
    "        stiffness (float): spring stiffness coefficient (N/m)\n",
    "        restLength (float): length of the spring at rest (m)\n",
    "    Returns:\n",
    "        thetamat (np.array): N x n matrix of joint angles (rad). Each row is a set of joint angles\n",
    "        dthetamat (np.array): N x n matrix of joint velocities (rad/s). Each row is a set of joint velocities\n",
    "    \"\"\"\n",
    "    # Initialize \n",
    "    N = int(t/dt)\n",
    "    n = len(thetalist)\n",
    "    thetamat = np.zeros((N + 1, n))\n",
    "    dthetamat = np.zeros((N + 1, n))\n",
    "    thetamat[0] = thetalist\n",
    "    dthetamat[0] = dthetalist\n",
    "\n",
    "    for i in tqdm(range(N)):\n",
    "        i_acc = mr.ForwardDynamics(thetalist, dthetalist, np.zeros(n), g, np.zeros(n), Mlist, Glist, Slist) \n",
    "        i_pos, i_vel = mr.EulerStep(thetalist, dthetalist, i_acc, dt)\n",
    "        thetamat[i + 1] = i_pos\n",
    "        dthetamat[i + 1] = i_vel\n",
    "\n",
    "        # Update\n",
    "        thetalist = i_pos\n",
    "        dthetalist = i_vel\n",
    "    \n",
    "    return thetamat, dthetamat"
   ]
  },
  {
   "cell_type": "code",
   "execution_count": 29,
   "metadata": {},
   "outputs": [
    {
     "name": "stderr",
     "output_type": "stream",
     "text": [
      "100%|██████████| 5000/5000 [00:34<00:00, 143.02it/s]\n"
     ]
    }
   ],
   "source": [
    "q1_thetalist0 = np.array([0, 0, 0, 0, 0, 0])\n",
    "q1_dthetalist0 = np.array([0, 0, 0, 0, 0, 0])\n",
    "g = np.array([0, 0, -9.81])\n",
    "\n",
    "q1_thetamat, _ = puppet_q1(q1_thetalist0, q1_dthetalist0, g, ur5.Mlist, ur5.Slist, ur5.Glist, 5, 0.001, 0, 0, 0)\n",
    "\n",
    "# Save to csv file\n",
    "np.savetxt('q1_thetamat.csv', q1_thetamat, delimiter=',')"
   ]
  },
  {
   "cell_type": "code",
   "execution_count": 30,
   "metadata": {},
   "outputs": [
    {
     "name": "stderr",
     "output_type": "stream",
     "text": [
      "100%|██████████| 500/500 [00:03<00:00, 136.09it/s]\n"
     ]
    }
   ],
   "source": [
    "q1_thetamat_coarse, _ = puppet_q1(q1_thetalist0, q1_dthetalist0, g, ur5.Mlist, ur5.Slist, ur5.Glist, 5, 0.01, 0, 0, 0)\n",
    "\n",
    "# Save to csv file\n",
    "np.savetxt('q1_thetamat_coarse.csv', q1_thetamat_coarse, delimiter=',')"
   ]
  },
  {
   "cell_type": "markdown",
   "metadata": {},
   "source": [
    "Loooking at video part1a and part1b.mp4, we can see that energy is not conserved due to error in numerical integration when timestep is too coarse. A good measure of total system energy would be the Hamiltonian of the system, as a sum of potential energy and kinetic energy of each link. By plotting the trend of Hamiltonian of each configuration in the trajectory, this will visualize the preservation of energy in the system. [TODO: IMPLEMENT COMPUTE H WHEN HAVE TIME]"
   ]
  },
  {
   "cell_type": "markdown",
   "metadata": {},
   "source": [
    "## Part 2: Adding damping. \n",
    "Now experiment with different damping coefficients as the robot\n",
    "falls from the home configuration. Damping causes a torque at each joint equal to the negative of\n",
    "the joint rate times the damping. Create two videos showing that (a) when you choose damping to\n",
    "be positive, the robot loses energy as it swings, and (b) when you choose damping to be negative,\n",
    "the robot gains energy as it swings. Use t = 5 s and dt = 0.01 s, and for the case of positive\n",
    "damping, the damping coefficient should almost (but not quite) bring the robot to rest by the end\n",
    "of the video. Do you see any strange behavior in the simulation if you choose the damping constant\n",
    "to be a large positive value? Can you explain it? How would this behavior change if you chose\n",
    "shorter simulation timesteps?"
   ]
  },
  {
   "cell_type": "code",
   "execution_count": 3,
   "metadata": {},
   "outputs": [],
   "source": [
    "def puppet_q2(thetalist, dthetalist, g, Mlist, Slist, Glist, t, dt, damping, stiffness, restLength):\n",
    "    \"\"\"\n",
    "    Simulate a robot under damping and spring reaction. Q2: Adding damping to robot. Damping causes a tau = - dtheta * damping\n",
    "\n",
    "    Args:\n",
    "        thetalist (np.array): n-vector of initial joint angles (rad)\n",
    "        dthetalist (np.array): n-vector of initial joint velocities (rad/s)\n",
    "        g (np.array): 3-vector of gravity in s frame (m/s^2)\n",
    "        Mlist (np.array): 8 frames of link configuration at home pose\n",
    "        Slist (np.array): 6-vector of screw axes at home configuration\n",
    "        Glist (np.array): Spatial inertia matrices of the links\n",
    "        t (float): total simulation time (s)\n",
    "        dt (float): simulation time step (s)\n",
    "        damping (float): viscous damping coefficient (Nmn/rad)\n",
    "        stiffness (float): spring stiffness coefficient (N/m)\n",
    "        restLength (float): length of the spring at rest (m)\n",
    "    Returns:\n",
    "        thetamat (np.array): N x n matrix of joint angles (rad). Each row is a set of joint angles\n",
    "        dthetamat (np.array): N x n matrix of joint velocities (rad/s). Each row is a set of joint velocities\n",
    "    \"\"\"\n",
    "    # Initialize \n",
    "    N = int(t/dt)\n",
    "    n = len(thetalist)\n",
    "    thetamat = np.zeros((N + 1, n))\n",
    "    dthetamat = np.zeros((N + 1, n))\n",
    "    thetamat[0] = thetalist\n",
    "    dthetamat[0] = dthetalist\n",
    "\n",
    "    for i in tqdm(range(N)):\n",
    "        tau_damping = - damping * dthetalist\n",
    "        i_acc = mr.ForwardDynamics(thetalist, dthetalist, tau_damping, g, np.zeros(n), Mlist, Glist, Slist) \n",
    "        i_pos, i_vel = mr.EulerStep(thetalist, dthetalist, i_acc, dt)\n",
    "        thetamat[i + 1] = i_pos\n",
    "        dthetamat[i + 1] = i_vel\n",
    "\n",
    "        # Update\n",
    "        thetalist = i_pos\n",
    "        dthetalist = i_vel\n",
    "    \n",
    "    return thetamat, dthetamat"
   ]
  },
  {
   "cell_type": "code",
   "execution_count": 7,
   "metadata": {},
   "outputs": [
    {
     "name": "stderr",
     "output_type": "stream",
     "text": [
      "100%|██████████| 500/500 [00:03<00:00, 153.18it/s]\n"
     ]
    }
   ],
   "source": [
    "q2_thetalist0 = np.array([0, 0, 0, 0, 0, 0])\n",
    "q2_dthetalist0 = np.array([0, 0, 0, 0, 0, 0])\n",
    "g = np.array([0, 0, -9.81])\n",
    "\n",
    "q2_thetamat, _ = puppet_q2(q2_thetalist0, q2_dthetalist0, g, ur5.Mlist, ur5.Slist, ur5.Glist, 5, 0.01, 1.2, 0, 0)\n",
    "# Save to csv file\n",
    "np.savetxt('q2_thetamat.csv', q2_thetamat, delimiter=',')"
   ]
  },
  {
   "cell_type": "code",
   "execution_count": 18,
   "metadata": {},
   "outputs": [
    {
     "name": "stderr",
     "output_type": "stream",
     "text": [
      "100%|██████████| 500/500 [00:03<00:00, 135.91it/s]"
     ]
    },
    {
     "name": "stdout",
     "output_type": "stream",
     "text": [
      "[[ 0.00000000e+00  0.00000000e+00  0.00000000e+00  0.00000000e+00\n",
      "   0.00000000e+00  0.00000000e+00]\n",
      " [ 0.00000000e+00  0.00000000e+00  0.00000000e+00  0.00000000e+00\n",
      "   0.00000000e+00  0.00000000e+00]\n",
      " [ 0.00000000e+00  2.57237340e-03 -2.87368129e-03  3.01307887e-04\n",
      "   3.18411925e-22 -1.13423177e-18]\n",
      " ...\n",
      " [-3.07812861e-01 -9.92195181e+00  1.31700123e+01 -6.81968171e+00\n",
      "  -8.36251555e-01  5.89264993e+01]\n",
      " [-3.02987560e-01 -1.00110250e+01  1.32499198e+01 -6.84260777e+00\n",
      "  -8.76917115e-01  5.96387109e+01]\n",
      " [-2.97193787e-01 -1.00998345e+01  1.33216146e+01 -6.85772600e+00\n",
      "  -9.17977817e-01  6.03581957e+01]]\n"
     ]
    },
    {
     "name": "stderr",
     "output_type": "stream",
     "text": [
      "\n"
     ]
    }
   ],
   "source": [
    "q2_thetamat_neg, _ = puppet_q2(q2_thetalist0, q2_dthetalist0, g, ur5.Mlist, ur5.Slist, ur5.Glist, 5, 0.01, -0.02, 0, 0)\n",
    "# Save to csv file\n",
    "print(q2_thetamat_neg)\n",
    "np.savetxt('q2_thetamat_neg.csv', q2_thetamat_neg, delimiter=',')"
   ]
  },
  {
   "cell_type": "code",
   "execution_count": null,
   "metadata": {},
   "outputs": [
    {
     "name": "stderr",
     "output_type": "stream",
     "text": [
      "100%|██████████| 500/500 [00:03<00:00, 141.24it/s]"
     ]
    },
    {
     "name": "stdout",
     "output_type": "stream",
     "text": [
      "[[ 0.00000000e+00  0.00000000e+00  0.00000000e+00  0.00000000e+00\n",
      "   0.00000000e+00  0.00000000e+00]\n",
      " [ 0.00000000e+00  0.00000000e+00  0.00000000e+00  0.00000000e+00\n",
      "   0.00000000e+00  0.00000000e+00]\n",
      " [ 0.00000000e+00  2.57237340e-03 -2.87368129e-03  3.01307887e-04\n",
      "   3.18411925e-22 -1.13423177e-18]\n",
      " ...\n",
      " [            nan             nan             nan             nan\n",
      "              nan             nan]\n",
      " [            nan             nan             nan             nan\n",
      "              nan             nan]\n",
      " [            nan             nan             nan             nan\n",
      "              nan             nan]]\n"
     ]
    },
    {
     "name": "stderr",
     "output_type": "stream",
     "text": [
      "\n"
     ]
    }
   ],
   "source": [
    "q2_thetamat_large, _ = puppet_q2(q2_thetalist0, q2_dthetalist0, g, ur5.Mlist, ur5.Slist, ur5.Glist, 5, 0.01, 20, 0, 0)\n",
    "# Save to csv file\n",
    "print(q2_thetamat_large)\n",
    "np.savetxt('q2_thetamat_large.csv', q2_thetamat_large, delimiter=',')"
   ]
  },
  {
   "cell_type": "markdown",
   "metadata": {},
   "source": [
    "As I increase the magnitude of damping coefficient in the simulation, the function start to run into numerical stability issues and starts to produce nan values in output. This happend because of the numerical instability in the euler integration and the fact that coarse timestep landing next iteration on gradients amplifying such effect; as a result simulation output grew at an extremely fast rate and overflowed. Increasing granularity in timestep helps addressing this issue."
   ]
  }
 ],
 "metadata": {
  "kernelspec": {
   "display_name": "Python 3",
   "language": "python",
   "name": "python3"
  },
  "language_info": {
   "codemirror_mode": {
    "name": "ipython",
    "version": 3
   },
   "file_extension": ".py",
   "mimetype": "text/x-python",
   "name": "python",
   "nbconvert_exporter": "python",
   "pygments_lexer": "ipython3",
   "version": "3.12.3"
  }
 },
 "nbformat": 4,
 "nbformat_minor": 2
}
