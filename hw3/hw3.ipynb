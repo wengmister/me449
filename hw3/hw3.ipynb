{
 "cells": [
  {
   "cell_type": "markdown",
   "metadata": {},
   "source": [
    "# ME449 - Homework 3 - Zhengyang Kris Weng Submission"
   ]
  },
  {
   "cell_type": "code",
   "execution_count": 21,
   "metadata": {},
   "outputs": [],
   "source": [
    "import numpy as np\n",
    "import modern_robotics as mr\n",
    "from tqdm import tqdm\n",
    "import ur5_parameters\n",
    "ur5 = ur5_parameters.UR5()"
   ]
  },
  {
   "cell_type": "markdown",
   "metadata": {},
   "source": [
    "## Part0: Puppet function"
   ]
  },
  {
   "cell_type": "code",
   "execution_count": null,
   "metadata": {},
   "outputs": [],
   "source": []
  },
  {
   "cell_type": "markdown",
   "metadata": {},
   "source": [
    "## Part 1: Simulating a falling robot. \n",
    "In the first part, the robot will fall in gravity without\n",
    "damping or the external spring (joint damping and spring stiffness are set to zero). Since there is\n",
    "no damping or friction, the total energy of the robot (kinetic plus potential) should remain constant\n",
    "during motion. Gravity is g = 9.81 m/s2 in the −ˆzs-direction, i.e., gravity acts downward.\n",
    "Simulate the robot falling from rest at the home configuration for five seconds. The output data\n",
    "should be saved as a .csv file, where each of the N rows has six numbers separated by commas.\n",
    "This .csv file is suitable for animation with the CoppeliaSim UR5 csv animation scene. Adjust\n",
    "the animation scene playback speed (“Time Multiplier”) so it takes roughly five seconds of wall\n",
    "clock time to play your csv file. You can evaluate if your simulation is preserving total energy by\n",
    "visually checking if the robot appears to swing to the same height (same potential energy) each\n",
    "swing. Choose values of dt (a) where the energy appears nearly constant (without choosing dt\n",
    "unnecessarily small) and (b) where the energy does not appear constant (because your timestep\n",
    "is too coarse). Capture a video for each case and note the dt chosen for each case. Explain how\n",
    "you would calculate the total energy of the robot at each timestep if you wanted to plot the total\n",
    "energy to confirm that your simulation approximately preserves it."
   ]
  },
  {
   "cell_type": "code",
   "execution_count": 26,
   "metadata": {},
   "outputs": [],
   "source": [
    "# Puppet function:\n",
    "def puppet_q1(thetalist, dthetalist, g, Mlist, Slist, Glist, t, dt, damping, stiffness, restLength):\n",
    "    \"\"\"\n",
    "    Simulate a robot under damping and spring reaction. Q1: free falling in gravity\n",
    "\n",
    "    Args:\n",
    "        thetalist (np.array): n-vector of initial joint angles (rad)\n",
    "        dthetalist (np.array): n-vector of initial joint velocities (rad/s)\n",
    "        g (np.array): 3-vector of gravity in s frame (m/s^2)\n",
    "        Mlist (np.array): 8 frames of link configuration at home pose\n",
    "        Slist (np.array): 6-vector of screw axes at home configuration\n",
    "        Glist (np.array): Spatial inertia matrices of the links\n",
    "        t (float): total simulation time (s)\n",
    "        dt (float): simulation time step (s)\n",
    "        damping (float): viscous damping coefficient (Nmn/rad)\n",
    "        stiffness (float): spring stiffness coefficient (N/m)\n",
    "        restLength (float): length of the spring at rest (m)\n",
    "    Returns:\n",
    "        thetamat (np.array): N x n matrix of joint angles (rad). Each row is a set of joint angles\n",
    "        dthetamat (np.array): N x n matrix of joint velocities (rad/s). Each row is a set of joint velocities\n",
    "    \"\"\"\n",
    "    # Initialize \n",
    "    N = int(t/dt)\n",
    "    n = len(thetalist)\n",
    "    thetamat = np.zeros((N + 1, n))\n",
    "    dthetamat = np.zeros((N + 1, n))\n",
    "    thetamat[0] = thetalist\n",
    "    dthetamat[0] = dthetalist\n",
    "\n",
    "    for i in tqdm(range(N)):\n",
    "        i_acc = mr.ForwardDynamics(thetalist, dthetalist, np.zeros(n), g, np.zeros(n), Mlist, Glist, Slist) \n",
    "        i_pos, i_vel = mr.EulerStep(thetalist, dthetalist, i_acc, dt)\n",
    "        thetamat[i + 1] = i_pos\n",
    "        dthetamat[i + 1] = i_vel\n",
    "\n",
    "        # Update\n",
    "        thetalist = i_pos\n",
    "        dthetalist = i_vel\n",
    "    \n",
    "    return thetamat, dthetamat"
   ]
  },
  {
   "cell_type": "code",
   "execution_count": 29,
   "metadata": {},
   "outputs": [
    {
     "name": "stderr",
     "output_type": "stream",
     "text": [
      "100%|██████████| 5000/5000 [00:34<00:00, 143.02it/s]\n"
     ]
    }
   ],
   "source": [
    "q1_thetalist0 = np.array([0, 0, 0, 0, 0, 0])\n",
    "q1_dthetalist0 = np.array([0, 0, 0, 0, 0, 0])\n",
    "g = np.array([0, 0, -9.81])\n",
    "\n",
    "q1_thetamat, _ = puppet_q1(q1_thetalist0, q1_dthetalist0, g, ur5.Mlist, ur5.Slist, ur5.Glist, 5, 0.001, 0, 0, 0)\n",
    "\n",
    "# Save to csv file\n",
    "np.savetxt('q1_thetamat.csv', q1_thetamat, delimiter=',')"
   ]
  },
  {
   "cell_type": "code",
   "execution_count": null,
   "metadata": {},
   "outputs": [],
   "source": [
    "q1_thetamat_coarse, _ = puppet_q1(q1_thetalist0, q1_dthetalist0, g, ur5.Mlist, ur5.Slist, ur5.Glist, 5, 0.01, 0, 0, 0)\n",
    "\n",
    "# Save to csv file\n",
    "np.savetxt('q1_thetamat_coarse.csv', q1_thetamat_coarse, delimiter=',')"
   ]
  }
 ],
 "metadata": {
  "kernelspec": {
   "display_name": "Python 3",
   "language": "python",
   "name": "python3"
  },
  "language_info": {
   "codemirror_mode": {
    "name": "ipython",
    "version": 3
   },
   "file_extension": ".py",
   "mimetype": "text/x-python",
   "name": "python",
   "nbconvert_exporter": "python",
   "pygments_lexer": "ipython3",
   "version": "3.12.3"
  }
 },
 "nbformat": 4,
 "nbformat_minor": 2
}
