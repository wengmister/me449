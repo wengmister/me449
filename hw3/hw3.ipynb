{
 "cells": [
  {
   "cell_type": "markdown",
   "metadata": {},
   "source": [
    "# ME449 - Homework 3 - Zhengyang Kris Weng Submission"
   ]
  },
  {
   "cell_type": "code",
   "execution_count": 4,
   "metadata": {},
   "outputs": [],
   "source": [
    "import numpy as np\n",
    "import modern_robotics as mr\n",
    "from tqdm import tqdm\n",
    "import ur5_parameters\n",
    "ur5 = ur5_parameters.UR5()"
   ]
  },
  {
   "cell_type": "markdown",
   "metadata": {},
   "source": [
    "## Part0: Puppet function"
   ]
  },
  {
   "cell_type": "code",
   "execution_count": null,
   "metadata": {},
   "outputs": [],
   "source": []
  },
  {
   "cell_type": "markdown",
   "metadata": {},
   "source": [
    "## Part 1: Simulating a falling robot. \n",
    "In the first part, the robot will fall in gravity without\n",
    "damping or the external spring (joint damping and spring stiffness are set to zero). Since there is\n",
    "no damping or friction, the total energy of the robot (kinetic plus potential) should remain constant\n",
    "during motion. Gravity is g = 9.81 m/s2 in the −ˆzs-direction, i.e., gravity acts downward.\n",
    "Simulate the robot falling from rest at the home configuration for five seconds. The output data\n",
    "should be saved as a .csv file, where each of the N rows has six numbers separated by commas.\n",
    "This .csv file is suitable for animation with the CoppeliaSim UR5 csv animation scene. Adjust\n",
    "the animation scene playback speed (“Time Multiplier”) so it takes roughly five seconds of wall\n",
    "clock time to play your csv file. You can evaluate if your simulation is preserving total energy by\n",
    "visually checking if the robot appears to swing to the same height (same potential energy) each\n",
    "swing. Choose values of dt (a) where the energy appears nearly constant (without choosing dt\n",
    "unnecessarily small) and (b) where the energy does not appear constant (because your timestep\n",
    "is too coarse). Capture a video for each case and note the dt chosen for each case. Explain how\n",
    "you would calculate the total energy of the robot at each timestep if you wanted to plot the total\n",
    "energy to confirm that your simulation approximately preserves it."
   ]
  },
  {
   "cell_type": "code",
   "execution_count": 5,
   "metadata": {},
   "outputs": [],
   "source": [
    "# Puppet function:\n",
    "def puppet_q1(thetalist, dthetalist, g, Mlist, Slist, Glist, t, dt, damping, stiffness, restLength):\n",
    "    \"\"\"\n",
    "    Simulate a robot under damping and spring reaction. Q1: free falling in gravity\n",
    "\n",
    "    Args:\n",
    "        thetalist (np.array): n-vector of initial joint angles (rad)\n",
    "        dthetalist (np.array): n-vector of initial joint velocities (rad/s)\n",
    "        g (np.array): 3-vector of gravity in s frame (m/s^2)\n",
    "        Mlist (np.array): 8 frames of link configuration at home pose\n",
    "        Slist (np.array): 6-vector of screw axes at home configuration\n",
    "        Glist (np.array): Spatial inertia matrices of the links\n",
    "        t (float): total simulation time (s)\n",
    "        dt (float): simulation time step (s)\n",
    "        damping (float): viscous damping coefficient (Nmn/rad)\n",
    "        stiffness (float): spring stiffness coefficient (N/m)\n",
    "        restLength (float): length of the spring at rest (m)\n",
    "    Returns:\n",
    "        thetamat (np.array): N x n matrix of joint angles (rad). Each row is a set of joint angles\n",
    "        dthetamat (np.array): N x n matrix of joint velocities (rad/s). Each row is a set of joint velocities\n",
    "    \"\"\"\n",
    "    # Initialize \n",
    "    N = int(t/dt)\n",
    "    n = len(thetalist)\n",
    "    thetamat = np.zeros((N + 1, n))\n",
    "    dthetamat = np.zeros((N + 1, n))\n",
    "    thetamat[0] = thetalist\n",
    "    dthetamat[0] = dthetalist\n",
    "\n",
    "    for i in tqdm(range(N)):\n",
    "        i_acc = mr.ForwardDynamics(thetalist, dthetalist, np.zeros(n), g, np.zeros(n), Mlist, Glist, Slist) \n",
    "        i_pos, i_vel = mr.EulerStep(thetalist, dthetalist, i_acc, dt)\n",
    "        thetamat[i + 1] = i_pos\n",
    "        dthetamat[i + 1] = i_vel\n",
    "\n",
    "        # Update\n",
    "        thetalist = i_pos\n",
    "        dthetalist = i_vel\n",
    "    \n",
    "    return thetamat, dthetamat"
   ]
  },
  {
   "cell_type": "code",
   "execution_count": 6,
   "metadata": {},
   "outputs": [
    {
     "name": "stderr",
     "output_type": "stream",
     "text": [
      "100%|██████████| 5000/5000 [00:32<00:00, 156.21it/s]\n"
     ]
    }
   ],
   "source": [
    "q1_thetalist0 = np.array([0, 0, 0, 0, 0, 0])\n",
    "q1_dthetalist0 = np.array([0, 0, 0, 0, 0, 0])\n",
    "g = np.array([0, 0, -9.81])\n",
    "\n",
    "q1_thetamat, _ = puppet_q1(q1_thetalist0, q1_dthetalist0, g, ur5.Mlist, ur5.Slist, ur5.Glist, 5, 0.001, 0, 0, 0)\n",
    "\n",
    "# Save to csv file\n",
    "np.savetxt('q1_thetamat.csv', q1_thetamat, delimiter=',')"
   ]
  },
  {
   "cell_type": "code",
   "execution_count": 7,
   "metadata": {},
   "outputs": [
    {
     "name": "stderr",
     "output_type": "stream",
     "text": [
      "100%|██████████| 500/500 [00:03<00:00, 156.37it/s]\n"
     ]
    }
   ],
   "source": [
    "q1_thetamat_coarse, _ = puppet_q1(q1_thetalist0, q1_dthetalist0, g, ur5.Mlist, ur5.Slist, ur5.Glist, 5, 0.01, 0, 0, 0)\n",
    "\n",
    "# Save to csv file\n",
    "np.savetxt('q1_thetamat_coarse.csv', q1_thetamat_coarse, delimiter=',')"
   ]
  },
  {
   "cell_type": "markdown",
   "metadata": {},
   "source": [
    "Loooking at video part1a and part1b.mp4, we can see that energy is not conserved due to error in numerical integration when timestep is too coarse. A good measure of total system energy would be the Hamiltonian of the system, as a sum of potential energy and kinetic energy of each link. By plotting the trend of Hamiltonian of each configuration in the trajectory, this will visualize the preservation of energy in the system. [TODO: IMPLEMENT COMPUTE H WHEN HAVE TIME]"
   ]
  },
  {
   "cell_type": "markdown",
   "metadata": {},
   "source": [
    "## Part 2: Adding damping. \n",
    "Now experiment with different damping coefficients as the robot\n",
    "falls from the home configuration. Damping causes a torque at each joint equal to the negative of\n",
    "the joint rate times the damping. Create two videos showing that (a) when you choose damping to\n",
    "be positive, the robot loses energy as it swings, and (b) when you choose damping to be negative,\n",
    "the robot gains energy as it swings. Use t = 5 s and dt = 0.01 s, and for the case of positive\n",
    "damping, the damping coefficient should almost (but not quite) bring the robot to rest by the end\n",
    "of the video. Do you see any strange behavior in the simulation if you choose the damping constant\n",
    "to be a large positive value? Can you explain it? How would this behavior change if you chose\n",
    "shorter simulation timesteps?"
   ]
  },
  {
   "cell_type": "code",
   "execution_count": 8,
   "metadata": {},
   "outputs": [],
   "source": [
    "def puppet_q2(thetalist, dthetalist, g, Mlist, Slist, Glist, t, dt, damping, stiffness, restLength):\n",
    "    \"\"\"\n",
    "    Simulate a robot under damping and spring reaction. Q2: Adding damping to robot. Damping causes a tau = - dtheta * damping\n",
    "\n",
    "    Args:\n",
    "        thetalist (np.array): n-vector of initial joint angles (rad)\n",
    "        dthetalist (np.array): n-vector of initial joint velocities (rad/s)\n",
    "        g (np.array): 3-vector of gravity in s frame (m/s^2)\n",
    "        Mlist (np.array): 8 frames of link configuration at home pose\n",
    "        Slist (np.array): 6-vector of screw axes at home configuration\n",
    "        Glist (np.array): Spatial inertia matrices of the links\n",
    "        t (float): total simulation time (s)\n",
    "        dt (float): simulation time step (s)\n",
    "        damping (float): viscous damping coefficient (Nmn/rad)\n",
    "        stiffness (float): spring stiffness coefficient (N/m)\n",
    "        restLength (float): length of the spring at rest (m)\n",
    "    Returns:\n",
    "        thetamat (np.array): N x n matrix of joint angles (rad). Each row is a set of joint angles\n",
    "        dthetamat (np.array): N x n matrix of joint velocities (rad/s). Each row is a set of joint velocities\n",
    "    \"\"\"\n",
    "    # Initialize \n",
    "    N = int(t/dt)\n",
    "    n = len(thetalist)\n",
    "    thetamat = np.zeros((N + 1, n))\n",
    "    dthetamat = np.zeros((N + 1, n))\n",
    "    thetamat[0] = thetalist\n",
    "    dthetamat[0] = dthetalist\n",
    "\n",
    "    for i in tqdm(range(N)):\n",
    "        tau_damping = - damping * dthetalist\n",
    "        i_acc = mr.ForwardDynamics(thetalist, dthetalist, tau_damping, g, np.zeros(n), Mlist, Glist, Slist) \n",
    "        i_pos, i_vel = mr.EulerStep(thetalist, dthetalist, i_acc, dt)\n",
    "        thetamat[i + 1] = i_pos\n",
    "        dthetamat[i + 1] = i_vel\n",
    "\n",
    "        # Update\n",
    "        thetalist = i_pos\n",
    "        dthetalist = i_vel\n",
    "    \n",
    "    return thetamat, dthetamat"
   ]
  },
  {
   "cell_type": "code",
   "execution_count": 9,
   "metadata": {},
   "outputs": [
    {
     "name": "stderr",
     "output_type": "stream",
     "text": [
      "100%|██████████| 500/500 [00:03<00:00, 156.30it/s]\n"
     ]
    }
   ],
   "source": [
    "q2_thetalist0 = np.array([0, 0, 0, 0, 0, 0])\n",
    "q2_dthetalist0 = np.array([0, 0, 0, 0, 0, 0])\n",
    "g = np.array([0, 0, -9.81])\n",
    "\n",
    "q2_thetamat, _ = puppet_q2(q2_thetalist0, q2_dthetalist0, g, ur5.Mlist, ur5.Slist, ur5.Glist, 5, 0.01, 1.2, 0, 0)\n",
    "# Save to csv file\n",
    "np.savetxt('q2_thetamat.csv', q2_thetamat, delimiter=',')"
   ]
  },
  {
   "cell_type": "code",
   "execution_count": 10,
   "metadata": {},
   "outputs": [
    {
     "name": "stderr",
     "output_type": "stream",
     "text": [
      "100%|██████████| 500/500 [00:03<00:00, 156.56it/s]"
     ]
    },
    {
     "name": "stdout",
     "output_type": "stream",
     "text": [
      "[[ 0.00000000e+00  0.00000000e+00  0.00000000e+00  0.00000000e+00\n",
      "   0.00000000e+00  0.00000000e+00]\n",
      " [ 0.00000000e+00  0.00000000e+00  0.00000000e+00  0.00000000e+00\n",
      "   0.00000000e+00  0.00000000e+00]\n",
      " [ 0.00000000e+00  2.57237340e-03 -2.87368129e-03  3.01307887e-04\n",
      "   3.18411925e-22 -1.13423177e-18]\n",
      " ...\n",
      " [-3.07812861e-01 -9.92195181e+00  1.31700123e+01 -6.81968171e+00\n",
      "  -8.36251555e-01  5.89264993e+01]\n",
      " [-3.02987560e-01 -1.00110250e+01  1.32499198e+01 -6.84260777e+00\n",
      "  -8.76917115e-01  5.96387109e+01]\n",
      " [-2.97193787e-01 -1.00998345e+01  1.33216146e+01 -6.85772600e+00\n",
      "  -9.17977817e-01  6.03581957e+01]]\n"
     ]
    },
    {
     "name": "stderr",
     "output_type": "stream",
     "text": [
      "\n"
     ]
    }
   ],
   "source": [
    "q2_thetamat_neg, _ = puppet_q2(q2_thetalist0, q2_dthetalist0, g, ur5.Mlist, ur5.Slist, ur5.Glist, 5, 0.01, -0.02, 0, 0)\n",
    "# Save to csv file\n",
    "print(q2_thetamat_neg)\n",
    "np.savetxt('q2_thetamat_neg.csv', q2_thetamat_neg, delimiter=',')"
   ]
  },
  {
   "cell_type": "code",
   "execution_count": 11,
   "metadata": {},
   "outputs": [
    {
     "name": "stderr",
     "output_type": "stream",
     "text": [
      "  0%|          | 0/500 [00:00<?, ?it/s]/usr/lib/python3/dist-packages/modern_robotics/core.py:927: RuntimeWarning: overflow encountered in multiply\n",
      "  + np.dot(ad(Vi[:, i + 1]), Ai[:, i]) * dthetalist[i]\n",
      "  3%|▎         | 17/500 [00:00<00:02, 165.73it/s]/usr/lib/python3/dist-packages/modern_robotics/core.py:143: RuntimeWarning: invalid value encountered in sin\n",
      "  return np.eye(3) + np.sin(theta) * omgmat \\\n",
      "/usr/lib/python3/dist-packages/modern_robotics/core.py:144: RuntimeWarning: invalid value encountered in cos\n",
      "  + (1 - np.cos(theta)) * np.dot(omgmat, omgmat)\n",
      "/usr/lib/python3/dist-packages/modern_robotics/core.py:366: RuntimeWarning: invalid value encountered in multiply\n",
      "  np.dot(np.eye(3) * theta \\\n",
      "/usr/lib/python3/dist-packages/modern_robotics/core.py:367: RuntimeWarning: invalid value encountered in cos\n",
      "  + (1 - np.cos(theta)) * omgmat \\\n",
      "/usr/lib/python3/dist-packages/modern_robotics/core.py:368: RuntimeWarning: invalid value encountered in sin\n",
      "  + (theta - np.sin(theta)) \\\n",
      "100%|██████████| 500/500 [00:03<00:00, 155.04it/s]"
     ]
    },
    {
     "name": "stdout",
     "output_type": "stream",
     "text": [
      "[[ 0.00000000e+00  0.00000000e+00  0.00000000e+00  0.00000000e+00\n",
      "   0.00000000e+00  0.00000000e+00]\n",
      " [ 0.00000000e+00  0.00000000e+00  0.00000000e+00  0.00000000e+00\n",
      "   0.00000000e+00  0.00000000e+00]\n",
      " [ 0.00000000e+00  2.57237340e-03 -2.87368129e-03  3.01307887e-04\n",
      "   3.18411925e-22 -1.13423177e-18]\n",
      " ...\n",
      " [            nan             nan             nan             nan\n",
      "              nan             nan]\n",
      " [            nan             nan             nan             nan\n",
      "              nan             nan]\n",
      " [            nan             nan             nan             nan\n",
      "              nan             nan]]\n"
     ]
    },
    {
     "name": "stderr",
     "output_type": "stream",
     "text": [
      "\n"
     ]
    }
   ],
   "source": [
    "q2_thetamat_large, _ = puppet_q2(q2_thetalist0, q2_dthetalist0, g, ur5.Mlist, ur5.Slist, ur5.Glist, 5, 0.01, 20, 0, 0)\n",
    "# Save to csv file\n",
    "print(q2_thetamat_large)\n",
    "np.savetxt('q2_thetamat_large.csv', q2_thetamat_large, delimiter=',')"
   ]
  },
  {
   "cell_type": "markdown",
   "metadata": {},
   "source": [
    "As I increase the magnitude of damping coefficient in the simulation, the function start to run into numerical stability issues and starts to produce nan values in output. This happend because of the numerical instability in the euler integration and the fact that coarse timestep landing next iteration on gradients amplifying such effect; as a result simulation output grew at an extremely fast rate and overflowed. Increasing granularity in timestep helps addressing this issue."
   ]
  },
  {
   "cell_type": "markdown",
   "metadata": {},
   "source": [
    "## Part 3: Adding a spring. \n",
    "Make gravity and damping zero and design referencePos to return\n",
    "a constant springPos at (0, 1, 1) in the {s} frame. The spring’s restLength is zero. Experiment\n",
    "with different stiffness values, and simulate the robot for t = 10 s and dt = 0.01 s starting from\n",
    "the home configuration. (a) Capture a video for a choice of stiffness that makes the robot oscillate\n",
    "a couple of times and record the stiffness value. Considering the system’s total energy, does the\n",
    "motion of the robot make sense? What do you expect to happen to the total energy over time?\n",
    "Describe the strange behavior you see if you choose the spring constant to be large; if you don’t\n",
    "see any strange behavior, explain why. (b) Now add a positive damping to the simulation that\n",
    "makes the arm nearly come to rest by the end of the video. For both videos, record the stiffness\n",
    "and damping you used."
   ]
  },
  {
   "cell_type": "code",
   "execution_count": null,
   "metadata": {},
   "outputs": [],
   "source": [
    "def puppet_q3(thetalist, dthetalist, g, Mlist, Slist, Glist, t, dt, damping, stiffness, restLength):\n",
    "    \"\"\"\n",
    "    Simulate a robot under damping and spring reaction. Q3: Adding a static spring.\n",
    "\n",
    "    Args:\n",
    "        thetalist (np.array): n-vector of initial joint angles (rad)\n",
    "        dthetalist (np.array): n-vector of initial joint velocities (rad/s)\n",
    "        g (np.array): 3-vector of gravity in s frame (m/s^2)\n",
    "        Mlist (np.array): 8 frames of link configuration at home pose\n",
    "        Slist (np.array): 6-vector of screw axes at home configuration\n",
    "        Glist (np.array): Spatial inertia matrices of the links\n",
    "        t (float): total simulation time (s)\n",
    "        dt (float): simulation time step (s)\n",
    "        damping (float): viscous damping coefficient (Nmn/rad)\n",
    "        stiffness (float): spring stiffness coefficient (N/m)\n",
    "        restLength (float): length of the spring at rest (m)\n",
    "    Returns:\n",
    "        thetamat (np.array): N x n matrix of joint angles (rad). Each row is a set of joint angles\n",
    "        dthetamat (np.array): N x n matrix of joint velocities (rad/s). Each row is a set of joint velocities\n",
    "    \"\"\"\n",
    "    # Initialize \n",
    "    N = int(t/dt)\n",
    "    n = len(thetalist)\n",
    "    thetamat = np.zeros((N + 1, n))\n",
    "    dthetamat = np.zeros((N + 1, n))\n",
    "    thetamat[0] = thetalist\n",
    "    dthetamat[0] = dthetalist\n",
    "\n",
    "    for i in tqdm(range(N)):\n",
    "        # Calculate damping\n",
    "        tau_damping = - damping * dthetalist\n",
    "        # Calculate spring force\n",
    "        spring_force_vec = calculate_spring_wrench(thetalist, Slist, stiffness, restLength, referencePos_q3(i*dt))\n",
    "        # Forward dynamics\n",
    "        i_acc = mr.ForwardDynamics(thetalist, dthetalist, tau_damping, g, spring_force_vec, Mlist, Glist, Slist) \n",
    "        i_pos, i_vel = mr.EulerStep(thetalist, dthetalist, i_acc, dt)\n",
    "        thetamat[i + 1] = i_pos\n",
    "        dthetamat[i + 1] = i_vel\n",
    "\n",
    "        # Update\n",
    "        thetalist = i_pos\n",
    "        dthetalist = i_vel\n",
    "    \n",
    "    return thetamat, dthetamat\n",
    "\n",
    "def referencePos_q3(t):\n",
    "    \"\"\"\n",
    "    Generate a reference position for springPos \n",
    "\n",
    "    Args:\n",
    "        t (float): current time (s)\n",
    "    Returns:\n",
    "        np.array: 3-vector of reference position\n",
    "    \"\"\"\n",
    "    return np.array([0, 1, 1])\n",
    "\n",
    "def calculate_spring_wrench(thetalist, Slist, stiffness, restLength, springPos):\n",
    "    \"\"\"\n",
    "    Calculate the 6-vector spring wrench acting on the end-effector.\n",
    "\n",
    "    Args:\n",
    "        thetalist (np.array): n-vector of joint angles (rad)\n",
    "        Mlist (np.array): 8 frames of link configuration at home pose\n",
    "        stiffness (float): spring stiffness coefficient (N/m)\n",
    "        restLength (float): length of the spring at rest (m)\n",
    "    Returns:\n",
    "        np.array: 6-vector of spring forces and torque acting on the robot. Expressed in end-effector frame.\n",
    "    \"\"\"\n",
    "    # Get end effector transformation matrix for current configuration\n",
    "\n",
    "    eePos = mr.FKinSpace(ur5.M_EE, Slist, thetalist)\n",
    "    # print(f\"eePos = {eePos}\")\n",
    "    # Extract position vector (first 3 elements of last column)\n",
    "    p = np.array(eePos[:3,3])\n",
    "\n",
    "    # Calculate spring length\n",
    "    spring_length = np.linalg.norm(p - springPos) - restLength\n",
    "    # print(f\"spring_length = {spring_length}\")\n",
    "    # print(f\"expected spring force = {stiffness * spring_length}\")\n",
    "\n",
    "    # Calculate spring force vector in {s} frame\n",
    "    spring_force = stiffness * spring_length * (p - springPos) / np.linalg.norm(p - springPos)\n",
    "    # print(f\"spring_force = {spring_force}\")\n",
    "\n",
    "    # Convert to end effector frame\n",
    "    spring_force_ee = eePos @ np.array([*spring_force, 0]).T\n",
    "    # print(f\"spring_force_ee = {spring_force_ee}\")\n",
    "\n",
    "    spring_wrench_ee = np.array([0, 0, 0, *spring_force_ee[:3]])\n",
    "\n",
    "    return spring_wrench_ee"
   ]
  },
  {
   "cell_type": "code",
   "execution_count": 29,
   "metadata": {},
   "outputs": [
    {
     "name": "stderr",
     "output_type": "stream",
     "text": [
      "100%|██████████| 1000/1000 [00:07<00:00, 138.44it/s]"
     ]
    },
    {
     "name": "stdout",
     "output_type": "stream",
     "text": [
      "[[ 0.00000000e+00  0.00000000e+00  0.00000000e+00  0.00000000e+00\n",
      "   0.00000000e+00  0.00000000e+00]\n",
      " [ 0.00000000e+00  0.00000000e+00  0.00000000e+00  0.00000000e+00\n",
      "   0.00000000e+00  0.00000000e+00]\n",
      " [ 2.96806155e-03  3.38433431e-04 -1.06034085e-02  1.03428409e-02\n",
      "   2.88838321e-03 -7.78658748e-05]\n",
      " ...\n",
      " [-2.54641707e-01 -3.59272235e+01  6.03259538e+01 -2.82866770e+02\n",
      "  -3.66632034e+01 -3.68248869e+02]\n",
      " [-2.94232289e-01 -3.58360492e+01  6.02203486e+01 -2.83072519e+02\n",
      "  -3.69187795e+01 -3.68776068e+02]\n",
      " [-3.23119321e-01 -3.57474368e+01  6.01108342e+01 -2.83279404e+02\n",
      "  -3.71719940e+01 -3.69238294e+02]]\n"
     ]
    },
    {
     "name": "stderr",
     "output_type": "stream",
     "text": [
      "\n"
     ]
    }
   ],
   "source": [
    "q3_thetalist0 = np.array([0, 0, 0, 0, 0, 0])\n",
    "q3_dthetalist0 = np.array([0, 0, 0, 0, 0, 0])\n",
    "g_q3 = np.array([0, 0, 0])\n",
    "\n",
    "q3_thetamat, _ = puppet_q3(q3_thetalist0, q3_dthetalist0, g_q3, ur5.Mlist, ur5.Slist, ur5.Glist, 10, 0.01, 0, 3, 0)\n",
    "# Save to csv file\n",
    "print(q3_thetamat)\n",
    "np.savetxt('q3_thetamat.csv', q3_thetamat, delimiter=',')"
   ]
  }
 ],
 "metadata": {
  "kernelspec": {
   "display_name": "Python 3",
   "language": "python",
   "name": "python3"
  },
  "language_info": {
   "codemirror_mode": {
    "name": "ipython",
    "version": 3
   },
   "file_extension": ".py",
   "mimetype": "text/x-python",
   "name": "python",
   "nbconvert_exporter": "python",
   "pygments_lexer": "ipython3",
   "version": "3.12.3"
  }
 },
 "nbformat": 4,
 "nbformat_minor": 2
}
